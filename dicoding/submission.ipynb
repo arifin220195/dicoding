{
  "cells": [
    {
      "cell_type": "markdown",
      "metadata": {
        "id": "H9wADwK78DCz"
      },
      "source": [
        "# Proyek Analisis Data:\n",
        "- **Nama:** ARIFIN SETYAWAN\n",
        "- **Email:** arifinscoutpasker@gmail.com\n",
        "- **ID Dicoding:** Arifin Setyawan"
      ]
    },
    {
      "cell_type": "markdown",
      "metadata": {
        "id": "kkZhjxZK-IMa"
      },
      "source": []
    },
    {
      "cell_type": "markdown",
      "metadata": {
        "id": "eE0raob58DC0"
      },
      "source": [
        "## Menentukan Pertanyaan Bisnis"
      ]
    },
    {
      "cell_type": "markdown",
      "metadata": {
        "id": "3WIJ0ilB8aPP"
      },
      "source": []
    },
    {
      "cell_type": "markdown",
      "metadata": {
        "id": "GmQeQ5YF8DC0"
      },
      "source": [
        "- Bagaimana pengaruh cuaca terhadap jumlah penyewaan sepeda?\n",
        "- Bagaimana perbandingan tren persewaan sepedah pada hari kerja dan hari libur?"
      ]
    },
    {
      "cell_type": "markdown",
      "metadata": {
        "id": "H-z4QGlO8DC1"
      },
      "source": [
        "## Import Semua Packages/Library yang Digunakan"
      ]
    },
    {
      "cell_type": "code",
      "execution_count": null,
      "metadata": {
        "id": "FVYwaObI8DC1"
      },
      "outputs": [],
      "source": [
        "# Library\n",
        "\n",
        "import pandas as pd\n",
        "import numpy as np\n",
        "import matplotlib.pyplot as plt\n",
        "import seaborn as sns"
      ]
    },
    {
      "cell_type": "markdown",
      "metadata": {
        "id": "h_Sh51Xy8DC1"
      },
      "source": [
        "## Data Wrangling"
      ]
    },
    {
      "cell_type": "markdown",
      "metadata": {
        "id": "sXU2GBYu8DC1"
      },
      "source": [
        "### Gathering Data"
      ]
    },
    {
      "cell_type": "code",
      "source": [
        "!rm -rf /root/.config/Google/\n",
        "\n",
        "#from google.colab import files\n",
        "#uploaded = files.upload()\n",
        "from google.colab import drive\n",
        "drive.mount('/content/drive', force_remount=True)\n",
        "!ls /content/drive/MyDrive\n",
        "\n"
      ],
      "metadata": {
        "id": "O9bCIsJgCbZ8"
      },
      "execution_count": null,
      "outputs": []
    },
    {
      "cell_type": "markdown",
      "metadata": {
        "id": "MMi6xGaDkbCi"
      },
      "source": [
        "**Insight:**\n",
        "- Terdapat 2 berkas / dataset yang berformat '.CSV' dengan nama file : day.CSV dan hour.CSV\n",
        "- Kita perlu menggabungkan 2 dataset tersebut menjadi 1 data frame agar mudah untuk mengeksplorasinya."
      ]
    },
    {
      "cell_type": "markdown",
      "metadata": {
        "id": "FHSiqaZp8DC1"
      },
      "source": [
        "### Assessing Data"
      ]
    },
    {
      "cell_type": "code",
      "execution_count": null,
      "metadata": {
        "id": "5CVAtUrug7VO"
      },
      "outputs": [],
      "source": [
        "\n",
        "drive_day = \"/content/drive/MyDrive/submission_ds_dicoding/data/day.csv\"\n",
        "drive_hour = \"/content/drive/MyDrive/submission_ds_dicoding/data/hour.csv\"\n",
        "df_day = pd.read_csv(drive_day)\n",
        "df_hour = pd.read_csv(drive_hour)\n",
        "\n",
        "# Mengecek data head/atas\n",
        "print(\"                        Cek Data Per-hari:\\n\")\n",
        "print(df_day.head())\n",
        "print(\"\\n                        Cek Data Per-jam:\\n\")\n",
        "print(df_hour.head())\n",
        "\n",
        "print(\"\\n    Cek Duplikasi Data Per-hari:\\n\")\n",
        "print(df_day.duplicated().sum())\n",
        "\n",
        "print(\"\\n    Cek Duplikasi Data Per-jam:\\n\")\n",
        "print(df_hour.duplicated().sum())\n",
        "print(\"\\n    Info Data Per-hari:\\n\")\n",
        "print(df_day.info())\n",
        "\n",
        "print(\"\\n    Info Data Per-jam:\\n\")\n",
        "print(df_hour.info())\n",
        "\n",
        "print(\"\\n                        Statistik Data Per-hari:\\n\")\n",
        "print(df_day.describe())\n",
        "\n",
        "print(\"\\n                        Statistik Data Per-jam:\\n\")\n",
        "print(df_hour.describe())\n"
      ]
    },
    {
      "cell_type": "markdown",
      "metadata": {
        "id": "MHJC3GKXJJt6"
      },
      "source": [
        "dari readme dataset\n",
        "\n",
        "- instant: record index\n",
        "\t- dteday : date\n",
        "\t- season : season (1:springer, 2:summer, 3:fall, 4:winter)\n",
        "\t- yr : year (0: 2011, 1:2012)\n",
        "\t- mnth : month ( 1 to 12)\n",
        "\t- hr : hour (0 to 23)\n",
        "\t- holiday : weather day is holiday or not (extracted from http://dchr.dc.gov/page/holiday-schedule)\n",
        "\t- weekday : day of the week\n",
        "\t- workingday : if day is neither weekend nor holiday is 1, otherwise is 0.\n",
        "\t+ weathersit :\n",
        "\t\t- 1: Clear, Few clouds, Partly cloudy, Partly cloudy\n",
        "\t\t- 2: Mist + Cloudy, Mist + Broken clouds, Mist + Few clouds, Mist\n",
        "\t\t- 3: Light Snow, Light Rain + Thunderstorm + Scattered clouds, Light Rain + Scattered clouds\n",
        "\t\t- 4: Heavy Rain + Ice Pallets + Thunderstorm + Mist, Snow + Fog\n",
        "\t- temp : Normalized temperature in Celsius. The values are divided to 41 (max)\n",
        "\t- atemp: Normalized feeling temperature in Celsius. The values are divided to 50 (max)\n",
        "\t- hum: Normalized humidity. The values are divided to 100 (max)\n",
        "\t- windspeed: Normalized wind speed. The values are divided to 67 (max)\n",
        "\t- casual: count of casual users\n",
        "\t- registered: count of registered users\n",
        "\t- cnt: count of total rental bikes including both casual and registered"
      ]
    },
    {
      "cell_type": "markdown",
      "metadata": {
        "id": "7dtxhAPrkhPL"
      },
      "source": [
        "**Insight:**\n",
        "- Terdapat 2 dataset yang kita jadikan bahan analisis, rekapan per hari sebanyak 731 item data dan rekapan per jam sebanyak 17.379 item data\n",
        "- Tidak terdapat nilai duplikasi dan nilai yang kosong/null"
      ]
    },
    {
      "cell_type": "markdown",
      "metadata": {
        "id": "EhN5R4hr8DC1"
      },
      "source": [
        "### Cleaning Data"
      ]
    },
    {
      "cell_type": "code",
      "execution_count": null,
      "metadata": {
        "id": "jVnYpprE9Evz"
      },
      "outputs": [],
      "source": [
        "# Mengecek Missing value\n",
        "print(\"\\n Missing Value di Data Per-hari:\\n\")\n",
        "print(df_day.isnull().sum())\n",
        "\n",
        "print(\"\\n Missing Values di Data Per-jam:\\n\")\n",
        "print(df_hour.isnull().sum())\n",
        "\n",
        "# Ubah format tanggal menjadi datetime\n",
        "df_day['dteday'] = pd.to_datetime(df_day['dteday'])\n",
        "df_hour['dteday'] = pd.to_datetime(df_hour['dteday'])\n",
        "\n",
        "df_day.drop(columns=['instant'], inplace=True)\n",
        "df_hour.drop(columns=['instant'], inplace=True)\n",
        "\n",
        "# Menampilkan struktur data setelah dibersihkan\n",
        "print(\"\\n        Struktur Data Harian Setelah Dibersihkan:\\n \")\n",
        "print(df_day.info())\n",
        "\n",
        "print(\"\\n        Struktur Data Per Jam Setelah Dibersihkan:\\n \")\n",
        "print(df_hour.info())"
      ]
    },
    {
      "cell_type": "markdown",
      "metadata": {
        "id": "Q_5ejIqckiSP"
      },
      "source": [
        "**Insight:**\n",
        "- Tidak didapati masalah/Missing value pada dataframe\n",
        "- Terdapat perbedaab tipe data pada kolom dtetime yang tidak dapat disertakan dalam penjumlahan nilai, maka dikecualikan saja."
      ]
    },
    {
      "cell_type": "markdown",
      "metadata": {
        "id": "gp-Y6wU38DC1"
      },
      "source": [
        "## Exploratory Data Analysis (EDA)"
      ]
    },
    {
      "cell_type": "markdown",
      "metadata": {
        "id": "MW7WF2kr8DC1"
      },
      "source": [
        "### Explore ..."
      ]
    },
    {
      "cell_type": "code",
      "execution_count": null,
      "metadata": {
        "id": "WTEewqvB_DQf"
      },
      "outputs": [],
      "source": [
        "# 3. Exploratory Data Analysis (EDA)\n",
        "\n",
        "# Distribusi jumlah peminjaman sepeda harian\n",
        "plt.figure(figsize=(10, 5))\n",
        "sns.histplot(df_day['cnt'], bins=30, kde=True, color='skyblue')\n",
        "plt.title('Distribusi Jumlah Peminjaman Sepedah Per Hari')\n",
        "plt.xlabel('Jumlah Peminjaman')\n",
        "plt.ylabel('Frekuensi')\n",
        "plt.grid()\n",
        "plt.show()\n",
        "\n",
        "# Distribusi jumlah peminjaman sepeda per jam\n",
        "plt.figure(figsize=(10, 5))\n",
        "sns.histplot(df_hour['cnt'], bins=50, kde=True, color='orange')\n",
        "plt.title('Distribusi Jumlah Peminjaman Sepedah Per Jam')\n",
        "plt.xlabel('Jumlah Peminjaman')\n",
        "plt.ylabel('Frekuensi')\n",
        "plt.grid()\n",
        "plt.show()"
      ]
    },
    {
      "cell_type": "markdown",
      "metadata": {
        "id": "th_Lzl2Fkj9O"
      },
      "source": [
        "**Insight:**\n",
        "- Terdapat pola penggunaan sepedah pada hari-hari tertentu mengalami lonjakan signifikan.\n",
        "- Data peminjaman sepedah per jam memiliki distribusi yang cenderung menunjukkan puncak pada jam-jam tertentu"
      ]
    },
    {
      "cell_type": "markdown",
      "metadata": {
        "id": "zsyZjqak8DC2"
      },
      "source": [
        "## Visualization & Explanatory Analysis"
      ]
    },
    {
      "cell_type": "markdown",
      "metadata": {
        "id": "HZxOiQ6n8DC2"
      },
      "source": [
        "### Pertanyaan 1:"
      ]
    },
    {
      "cell_type": "markdown",
      "metadata": {
        "id": "n3nC_WkcBukv"
      },
      "source": [
        "Bagaimana pengaruh faktor cuaca terhadap jumlah peminjaman sepedah?"
      ]
    },
    {
      "cell_type": "code",
      "execution_count": null,
      "metadata": {
        "id": "MoTaW9IB_VW0"
      },
      "outputs": [],
      "source": [
        "# Pengaruh Cuaca terhadap Peminjaman\n",
        "\n",
        "plt.figure(figsize=(8, 6))\n",
        "sns.barplot(x='weathersit', y='cnt',hue='season', data=df_day, estimator=sum, errorbar=None, palette='viridis')\n",
        "plt.title('Pengaruh Cuaca terhadap Jumlah Peminjaman Sepeda')\n",
        "plt.xlabel('Kondisi Cuaca (1=Clear, 2=Misty, 3=Light Snow/Rain)')\n",
        "plt.ylabel('Total Jumlah Peminjaman')\n",
        "plt.show()\n",
        "\n",
        "plt.figure(figsize=(8, 6))\n",
        "sns.boxplot(x='weathersit', y='cnt',hue='season', data=df_day, palette='Set2')\n",
        "plt.title('Pengaruh Cuaca terhadap Jumlah Peminjaman Sepedah')\n",
        "plt.xlabel('Kondisi Cuaca : (1=Clear, 2=Misty, 3=Light Snow/Rain)')\n",
        "plt.ylabel('Jumlah Peminjaman')\n",
        "plt.grid()\n",
        "plt.show()"
      ]
    },
    {
      "cell_type": "markdown",
      "metadata": {
        "id": "DgHI7CiU8DC2"
      },
      "source": [
        "### Pertanyaan 2:"
      ]
    },
    {
      "cell_type": "markdown",
      "metadata": {
        "id": "SLABm4XuCZwF"
      },
      "source": [
        "Bagaimana pola penggunaan sepeda berdasarkan jam dalam sehari?"
      ]
    },
    {
      "cell_type": "code",
      "execution_count": null,
      "metadata": {
        "id": "Go0lCsvO8DC2"
      },
      "outputs": [],
      "source": [
        "# Analisis Pertanyaan 2: Pola Penggunaan Sepeda Berdasarkan Jam\n",
        "df_hour_grouped = df_hour.groupby('hr').sum(numeric_only=True).reset_index()\n",
        "\n",
        "plt.figure(figsize=(12, 6))\n",
        "sns.lineplot(x='hr', y='cnt', data=df_hour_grouped, marker='o', color='red')\n",
        "plt.title('Pola Penggunaan Sepeda Berdasarkan Jam')\n",
        "plt.xlabel('Jam dalam Sehari')\n",
        "plt.ylabel('Total Peminjaman')\n",
        "plt.grid()\n",
        "plt.show()"
      ]
    },
    {
      "cell_type": "markdown",
      "metadata": {
        "id": "_0-36BDLklRg"
      },
      "source": [
        "**Insight:**\n",
        "- Cuaca cerah meningkatkan jumlah peminjaman sepeda, sedangkan kondisi cuaca buruk menurunkan peminjaman\n",
        "- Peminjaman sepeda menunjukkan pola puncak pada jam sibuk, yaitu pagi hari (07:00-09:00) dan sore hari (17:00-19:00), kemungkinan untuk keperluan berangkat dan pulang kerja/sekolah."
      ]
    },
    {
      "cell_type": "markdown",
      "metadata": {
        "id": "9y4VUsmcYNZ5"
      },
      "source": [
        "## Analisis Lanjutan (Opsional)"
      ]
    },
    {
      "cell_type": "markdown",
      "metadata": {
        "id": "_WeHlCeX8DC2"
      },
      "source": [
        "## Conclusion"
      ]
    },
    {
      "cell_type": "markdown",
      "metadata": {
        "id": "ZTcyR48Y8DC2"
      },
      "source": [
        "-  Faktor cuaca sangat memengaruhi jumlah peminjaman sepeda, dengan kondisi cerah cenderung meningkatkan jumlah peminjaman. Sediakan layanan dan stock barang sewaan yang cukup pada jam tersebut.\n",
        "- Begitu juga terhaadap waktu aktivitas umum, peminjaman sepeda memiliki pola penggunaan yang jelas dengan lonjakan pada pagi dan sore hari, mencerminkan waktu produktif penyediaan layanan."
      ]
    },
    {
      "cell_type": "markdown",
      "source": [
        "# Simpan data final"
      ],
      "metadata": {
        "id": "FjrCLlALVj4r"
      }
    },
    {
      "cell_type": "code",
      "source": [
        "df_day.to_csv('/content/drive/MyDrive/submission_ds_dicoding/dashboard/main_data.csv', index=False)"
      ],
      "metadata": {
        "id": "hyoE1PMaVlIg"
      },
      "execution_count": null,
      "outputs": []
    },
    {
      "cell_type": "markdown",
      "source": [
        "#Pembuatan Dashboard"
      ],
      "metadata": {
        "id": "4KKNNosSGReH"
      }
    },
    {
      "cell_type": "code",
      "source": [
        "!pip install streamlit\n"
      ],
      "metadata": {
        "id": "DVxgyvc6Gmhe"
      },
      "execution_count": null,
      "outputs": []
    },
    {
      "cell_type": "code",
      "source": [
        "import streamlit as st\n",
        "\n",
        "# Load data\n",
        "df_day = pd.read_csv(\"/content/drive/MyDrive/submission_ds_dicoding/dashboard/main_data.csv\")\n",
        "\n",
        "# Judul dashboard\n",
        "st.title(\"Dashboard Pemantauan Penyewaan Sepeda\")\n",
        "\n",
        "# Tampilkan visualisasi\n",
        "st.header(\"Pengaruh Cuaca terhadap Jumlah Peminjaman Sepeda\")\n",
        "fig, ax = plt.subplots(figsize=(8, 6))\n",
        "sns.barplot(x='weathersit', y='cnt', hue='season', data=df_day, estimator=sum, errorbar=None, palette='viridis', ax=ax)\n",
        "plt.title('Pengaruh Cuaca terhadap Jumlah Peminjaman Sepeda')\n",
        "plt.xlabel('Kondisi Cuaca (1=Clear, 2=Misty, 3=Light Snow/Rain)')\n",
        "plt.ylabel('Total Jumlah Peminjaman')\n",
        "st.pyplot(fig)\n",
        "\n",
        "# Tambahkan komponen interaktif (contoh)\n",
        "st.header(\"Filter Data\")\n",
        "selected_season = st.selectbox(\"Pilih Musim\", df_day['season'].unique())\n",
        "filtered_data = df_day[df_day['season'] == selected_season]\n",
        "\n",
        "# Tampilkan tabel data yang difilter\n",
        "st.write(filtered_data)"
      ],
      "metadata": {
        "id": "Y7NEuSwzFYTL"
      },
      "execution_count": null,
      "outputs": []
    },
    {
      "cell_type": "code",
      "source": [],
      "metadata": {
        "id": "n5WevtVzhLEx"
      },
      "execution_count": null,
      "outputs": []
    }
  ],
  "metadata": {
    "colab": {
      "provenance": []
    },
    "kernelspec": {
      "display_name": "Python 3",
      "language": "python",
      "name": "python3"
    },
    "language_info": {
      "name": "python",
      "version": "3.8.0 (tags/v3.8.0:fa919fd, Oct 14 2019, 19:21:23) [MSC v.1916 32 bit (Intel)]"
    },
    "vscode": {
      "interpreter": {
        "hash": "972b3bf27e332e87b5379f2791f6ef9dfc79c71018c370b0d7423235e20fe4d7"
      }
    }
  },
  "nbformat": 4,
  "nbformat_minor": 0
}